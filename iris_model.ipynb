{
 "cells": [
  {
   "cell_type": "markdown",
   "metadata": {},
   "source": [
    "# Objective: Make generic Machine Learning model by parsing the json data and implimenting the parsed values in model"
   ]
  },
  {
   "cell_type": "markdown",
   "metadata": {},
   "source": [
    "### Importing Libraries"
   ]
  },
  {
   "cell_type": "code",
   "execution_count": 1,
   "metadata": {},
   "outputs": [],
   "source": [
    "# Import Libraries\n",
    "import json   # To handle json data\n",
    "import pandas as pd   # To processing the dataframe\n",
    "import matplotlib.pyplot as plt  # To plot graph / visualize the data\n",
    "import numpy as np  # To computation\n",
    "import seaborn as sns  # To make graphs more interative\n",
    "import sklearn \n",
    "from sklearn.metrics import confusion_matrix, accuracy_score, classification_report  # Evaluat the model\n",
    "from sklearn.model_selection import train_test_split  # To split dataset in training and testing\n",
    "from sklearn.preprocessing import StandardScaler, MinMaxScaler  # Normalizing the data\n",
    "from sklearn.linear_model import LogisticRegression, LinearRegression\n",
    "from sklearn.ensemble import GradientBoostingClassifier, RandomForestClassifier\n",
    "from sklearn.tree import DecisionTreeClassifier, DecisionTreeRegressor\n",
    "\n",
    "# Dealing with warnings\n",
    "import warnings\n",
    "warnings.filterwarnings(\"ignore\")\n",
    "\n",
    "%matplotlib inline\n",
    "pd.set_option(\"display.max_columns\", None)"
   ]
  },
  {
   "cell_type": "markdown",
   "metadata": {},
   "source": [
    "### Parsing json file and importing the data"
   ]
  },
  {
   "cell_type": "code",
   "execution_count": 2,
   "metadata": {},
   "outputs": [
    {
     "name": "stdout",
     "output_type": "stream",
     "text": [
      "Conversion successful.\n"
     ]
    }
   ],
   "source": [
    "# Defining function to convert text file to json file\n",
    "def convert_txt_to_json(txt_file_path, json_file_path):\n",
    "    try:\n",
    "        # Open the text file containing json data\n",
    "        with open(txt_file_path, 'r') as txt_file:\n",
    "            # Read the content of the file\n",
    "            data = txt_file.read()\n",
    "            \n",
    "            # Load the json data\n",
    "            json_data = json.loads(data)\n",
    "            \n",
    "            # Write the parsed json data into a new json file\n",
    "            with open(json_file_path, 'w') as json_file:\n",
    "                json.dump(json_data, json_file, indent=4)\n",
    "                \n",
    "        print(\"Conversion successful.\")\n",
    "        \n",
    "    except FileNotFoundError:\n",
    "        print(\"File not found.\")\n",
    "\n",
    "txt_file_path = \"algoparams_from_ui1.txt\" # Input file\n",
    "json_file_path = \"parsed_data.json\"  # Output file\n",
    "\n",
    "convert_txt_to_json(txt_file_path, json_file_path)"
   ]
  },
  {
   "cell_type": "code",
   "execution_count": 3,
   "metadata": {},
   "outputs": [],
   "source": [
    "# defining function to load json data\n",
    "def load_data(json_file_path):\n",
    "    # Open the json file\n",
    "    with open(json_file_path, \"r\") as json_file:\n",
    "        # Load the json file\n",
    "        json_data = json.load(json_file)\n",
    "    return json_data\n",
    "\n",
    "parsed_data = load_data(\"parsed_data.json\")"
   ]
  },
  {
   "cell_type": "code",
   "execution_count": 4,
   "metadata": {},
   "outputs": [
    {
     "name": "stdout",
     "output_type": "stream",
     "text": [
      "{'session_name': 'test',\n",
      " 'session_description': 'test',\n",
      " 'design_state_data': {'session_info': {'project_id': '1',\n",
      "                                        'experiment_id': 'kkkk-11',\n",
      "                                        'dataset': 'iris_modified.csv',\n",
      "                                        'session_name': 'test',\n",
      "                                        'session_description': 'test'},\n",
      "                       'target': {'prediction_type': 'Classification',\n",
      "                                  'target': 'species',\n",
      "                                  'type': 'classifiation',\n",
      "                                  'partitioning': True},\n",
      "                       'train': {'policy': 'Split the dataset',\n",
      "                                 'time_variable': 'sepal_length',\n",
      "                                 'sampling_method': 'No sampling(whole data)',\n",
      "                                 'split': 'Randomly',\n",
      "                                 'k_fold': False,\n",
      "                                 'train_ratio': 0.8,\n",
      "                                 'random_seed': 10},\n",
      "                       'feature_handling': {'sepal_length': {'feature_name': 'sepal_length',\n",
      "                                                             'is_selected': True,\n",
      "                                                             'feature_variable_type': 'numerical',\n",
      "                                                             'feature_details': {'numerical_handling': 'Keep '\n",
      "                                                                                                       'as '\n",
      "                                                                                                       'regular '\n",
      "                                                                                                       'numerical '\n",
      "                                                                                                       'feature',\n",
      "                                                                                 'rescaling': 'No '\n",
      "                                                                                              'rescaling',\n",
      "                                                                                 'make_derived_feats': False,\n",
      "                                                                                 'missing_values': 'Impute',\n",
      "                                                                                 'impute_with': 'Average '\n",
      "                                                                                                'of '\n",
      "                                                                                                'values'}},\n",
      "                                            'sepal_width': {'feature_name': 'sepal_width',\n",
      "                                                            'is_selected': True,\n",
      "                                                            'feature_variable_type': 'numerical',\n",
      "                                                            'feature_details': {'numerical_handling': 'Keep '\n",
      "                                                                                                      'as '\n",
      "                                                                                                      'regular '\n",
      "                                                                                                      'numerical '\n",
      "                                                                                                      'feature',\n",
      "                                                                                'rescaling': 'No '\n",
      "                                                                                             'rescaling',\n",
      "                                                                                'make_derived_feats': False,\n",
      "                                                                                'missing_values': 'Impute',\n",
      "                                                                                'impute_with': 'Average '\n",
      "                                                                                               'of '\n",
      "                                                                                               'values'}},\n",
      "                                            'petal_length': {'feature_name': 'petal_length',\n",
      "                                                             'is_selected': True,\n",
      "                                                             'feature_variable_type': 'numerical',\n",
      "                                                             'feature_details': {'numerical_handling': 'Keep '\n",
      "                                                                                                       'as '\n",
      "                                                                                                       'regular '\n",
      "                                                                                                       'numerical '\n",
      "                                                                                                       'feature',\n",
      "                                                                                 'rescaling': 'No '\n",
      "                                                                                              'rescaling',\n",
      "                                                                                 'make_derived_feats': False,\n",
      "                                                                                 'missing_values': 'Impute',\n",
      "                                                                                 'impute_with': 'Average '\n",
      "                                                                                                'of '\n",
      "                                                                                                'values'}},\n",
      "                                            'petal_width': {'feature_name': 'petal_width',\n",
      "                                                            'is_selected': False,\n",
      "                                                            'feature_variable_type': 'numerical',\n",
      "                                                            'feature_details': {'numerical_handling': 'Keep '\n",
      "                                                                                                      'as '\n",
      "                                                                                                      'regular '\n",
      "                                                                                                      'numerical '\n",
      "                                                                                                      'feature',\n",
      "                                                                                'rescaling': 'No '\n",
      "                                                                                             'rescaling',\n",
      "                                                                                'make_derived_feats': False,\n",
      "                                                                                'missing_values': 'Impute',\n",
      "                                                                                'impute_with': 'Average '\n",
      "                                                                                               'of '\n",
      "                                                                                               'values'}},\n",
      "                                            'species': {'feature_name': 'species',\n",
      "                                                        'is_selected': True,\n",
      "                                                        'feature_variable_type': 'text',\n",
      "                                                        'feature_details': {'text_handling': 'Tokenize '\n",
      "                                                                                             'and '\n",
      "                                                                                             'hash',\n",
      "                                                                            'hash_columns': 0}}},\n",
      "                       'algorithms': {'RandomForestClassifier': {'model_name': 'Random '\n",
      "                                                                               'Forest '\n",
      "                                                                               'Classifier',\n",
      "                                                                 'is_selected': True,\n",
      "                                                                 'min_trees': 10,\n",
      "                                                                 'max_trees': 30,\n",
      "                                                                 'feature_sampling_statergy': 'Default',\n",
      "                                                                 'min_depth': 20,\n",
      "                                                                 'max_depth': 30,\n",
      "                                                                 'min_samples_per_leaf_min_value': 5,\n",
      "                                                                 'min_samples_per_leaf_max_value': 50,\n",
      "                                                                 'parallelism': 0},\n",
      "                                      'RandomForestRegressor': {'model_name': 'Random '\n",
      "                                                                              'Forest '\n",
      "                                                                              'Regressor',\n",
      "                                                                'is_selected': False,\n",
      "                                                                'min_trees': 10,\n",
      "                                                                'max_trees': 20,\n",
      "                                                                'feature_sampling_statergy': 'Default',\n",
      "                                                                'min_depth': 20,\n",
      "                                                                'max_depth': 25,\n",
      "                                                                'min_samples_per_leaf_min_value': 5,\n",
      "                                                                'min_samples_per_leaf_max_value': 10,\n",
      "                                                                'parallelism': 0},\n",
      "                                      'LinearRegression': {'model_name': 'LinearRegression',\n",
      "                                                           'is_selected': False,\n",
      "                                                           'parallelism': 2,\n",
      "                                                           'min_iter': 30,\n",
      "                                                           'max_iter': 50,\n",
      "                                                           'min_regparam': 0.5,\n",
      "                                                           'max_regparam': 0.8,\n",
      "                                                           'min_elasticnet': 0.5,\n",
      "                                                           'max_elasticnet': 0.8},\n",
      "                                      'LogisticRegression': {'model_name': 'LogisticRegression',\n",
      "                                                             'is_selected': False,\n",
      "                                                             'parallelism': 2,\n",
      "                                                             'min_iter': 30,\n",
      "                                                             'max_iter': 50,\n",
      "                                                             'min_regparam': 0.5,\n",
      "                                                             'max_regparam': 0.8,\n",
      "                                                             'min_elasticnet': 0.5,\n",
      "                                                             'max_elasticnet': 0.8},\n",
      "                                      'RidgeRegression': {'model_name': 'RidgeRegression',\n",
      "                                                          'is_selected': False,\n",
      "                                                          'regularization_term': 'Specify '\n",
      "                                                                                 'values '\n",
      "                                                                                 'to '\n",
      "                                                                                 'test',\n",
      "                                                          'min_iter': 30,\n",
      "                                                          'max_iter': 50,\n",
      "                                                          'min_regparam': 0.5,\n",
      "                                                          'max_regparam': 0.8},\n",
      "                                      'LassoRegression': {'model_name': 'Lasso '\n",
      "                                                                        'Regression',\n",
      "                                                          'is_selected': False,\n",
      "                                                          'regularization_term': 'Specify '\n",
      "                                                                                 'values '\n",
      "                                                                                 'to '\n",
      "                                                                                 'test',\n",
      "                                                          'min_iter': 30,\n",
      "                                                          'max_iter': 50,\n",
      "                                                          'min_regparam': 0.5,\n",
      "                                                          'max_regparam': 0.8},\n",
      "                                      'ElasticNetRegression': {'model_name': 'Lasso '\n",
      "                                                                             'Regression',\n",
      "                                                               'is_selected': False,\n",
      "                                                               'regularization_term': 'Specify '\n",
      "                                                                                      'values '\n",
      "                                                                                      'to '\n",
      "                                                                                      'test',\n",
      "                                                               'min_iter': 30,\n",
      "                                                               'max_iter': 50,\n",
      "                                                               'min_regparam': 0.5,\n",
      "                                                               'max_regparam': 0.8,\n",
      "                                                               'min_elasticnet': 0.5,\n",
      "                                                               'max_elasticnet': 0.8},\n",
      "                                      'xg_boost': {'model_name': 'XG Boost',\n",
      "                                                   'is_selected': False,\n",
      "                                                   'use_gradient_boosted_tree': True,\n",
      "                                                   'dart': True,\n",
      "                                                   'tree_method': '',\n",
      "                                                   'random_state': 0,\n",
      "                                                   'max_num_of_trees': 0,\n",
      "                                                   'early_stopping': True,\n",
      "                                                   'early_stopping_rounds': 2,\n",
      "                                                   'max_depth_of_tree': [56,\n",
      "                                                                         89],\n",
      "                                                   'learningRate': [89, 76],\n",
      "                                                   'l1_regularization': [77],\n",
      "                                                   'l2_regularization': [78],\n",
      "                                                   'gamma': [68],\n",
      "                                                   'min_child_weight': [67],\n",
      "                                                   'sub_sample': [67],\n",
      "                                                   'col_sample_by_tree': [67],\n",
      "                                                   'replace_missing_values': False,\n",
      "                                                   'parallelism': 0},\n",
      "                                      'DecisionTreeRegressor': {'model_name': 'Decision '\n",
      "                                                                              'Tree',\n",
      "                                                                'is_selected': False,\n",
      "                                                                'min_depth': 4,\n",
      "                                                                'max_depth': 7,\n",
      "                                                                'use_gini': False,\n",
      "                                                                'use_entropy': True,\n",
      "                                                                'min_samples_per_leaf': [12,\n",
      "                                                                                         6],\n",
      "                                                                'use_best': True,\n",
      "                                                                'use_random': True},\n",
      "                                      'DecisionTreeClassifier': {'model_name': 'Decision '\n",
      "                                                                               'Tree',\n",
      "                                                                 'is_selected': True,\n",
      "                                                                 'min_depth': 4,\n",
      "                                                                 'max_depth': 7,\n",
      "                                                                 'use_gini': False,\n",
      "                                                                 'use_entropy': True,\n",
      "                                                                 'min_samples_per_leaf': [12,\n",
      "                                                                                          6],\n",
      "                                                                 'use_best': True,\n",
      "                                                                 'use_random': False},\n",
      "                                      'SVM': {'model_name': 'Support Vector '\n",
      "                                                            'Machine',\n",
      "                                              'is_selected': False,\n",
      "                                              'linear_kernel': True,\n",
      "                                              'rep_kernel': True,\n",
      "                                              'polynomial_kernel': True,\n",
      "                                              'sigmoid_kernel': True,\n",
      "                                              'c_value': [566, 79],\n",
      "                                              'auto': True,\n",
      "                                              'scale': True,\n",
      "                                              'custom_gamma_values': True,\n",
      "                                              'tolerance': 7,\n",
      "                                              'max_iterations': 7},\n",
      "                                      'KNN': {'model_name': 'KNN',\n",
      "                                              'is_selected': False,\n",
      "                                              'k_value': [78],\n",
      "                                              'distance_weighting': True,\n",
      "                                              'neighbour_finding_algorithm': 'Automatic',\n",
      "                                              'random_state': 0,\n",
      "                                              'p_value': 0},\n",
      "                                      'neural_network': {'model_name': 'Neural '\n",
      "                                                                       'Network',\n",
      "                                                         'is_selected': False,\n",
      "                                                         'hidden_layer_sizes': [67,\n",
      "                                                                                89],\n",
      "                                                         'activation': '',\n",
      "                                                         'alpha_value': 0,\n",
      "                                                         'max_iterations': 0,\n",
      "                                                         'convergence_tolerance': 0,\n",
      "                                                         'early_stopping': True,\n",
      "                                                         'solver': 'ADAM',\n",
      "                                                         'shuffle_data': True,\n",
      "                                                         'initial_learning_rate': 0,\n",
      "                                                         'automatic_batching': True,\n",
      "                                                         'beta_1': 0,\n",
      "                                                         'beta_2': 0,\n",
      "                                                         'epsilon': 0,\n",
      "                                                         'power_t': 0,\n",
      "                                                         'momentum': 0,\n",
      "                                                         'use_nesterov_momentum': False}}}}\n"
     ]
    }
   ],
   "source": [
    "import pprint  # To print json data in understandable format\n",
    "pprint.pp(parsed_data)"
   ]
  },
  {
   "cell_type": "code",
   "execution_count": 5,
   "metadata": {},
   "outputs": [
    {
     "data": {
      "text/plain": [
       "dict"
      ]
     },
     "execution_count": 5,
     "metadata": {},
     "output_type": "execute_result"
    }
   ],
   "source": [
    "type(parsed_data)"
   ]
  },
  {
   "cell_type": "code",
   "execution_count": 6,
   "metadata": {
    "scrolled": true
   },
   "outputs": [
    {
     "data": {
      "text/plain": [
       "'iris_modified.csv'"
      ]
     },
     "execution_count": 6,
     "metadata": {},
     "output_type": "execute_result"
    }
   ],
   "source": [
    "# Extracting value for dataset key\n",
    "data = parsed_data[\"design_state_data\"][\"session_info\"][\"dataset\"]\n",
    "data"
   ]
  },
  {
   "cell_type": "code",
   "execution_count": 7,
   "metadata": {},
   "outputs": [],
   "source": [
    "# Defining function to read CSV data\n",
    "def read_data(path):\n",
    "    df = pd.read_csv(path)\n",
    "    \n",
    "    return df\n",
    "\n",
    "a = read_data(data)"
   ]
  },
  {
   "cell_type": "markdown",
   "metadata": {},
   "source": [
    "### Feature handling / data processing"
   ]
  },
  {
   "cell_type": "code",
   "execution_count": 8,
   "metadata": {},
   "outputs": [],
   "source": [
    "# Feature Handling\n",
    "\n",
    "# Extracting values for required features key\n",
    "feature_sl = parsed_data[\"design_state_data\"][\"feature_handling\"][\"sepal_length\"][\"feature_details\"]\n",
    "feature_sw = parsed_data[\"design_state_data\"][\"feature_handling\"][\"sepal_width\"][\"feature_details\"]\n",
    "feature_pl = parsed_data[\"design_state_data\"][\"feature_handling\"][\"petal_length\"][\"feature_details\"]\n",
    "feature_pw = parsed_data[\"design_state_data\"][\"feature_handling\"][\"petal_width\"][\"feature_details\"]\n",
    "\n",
    "# Making list of features\n",
    "features = [feature_sl, feature_sw, feature_pl, feature_pw]\n",
    "\n",
    "for i in features:\n",
    "    if i[\"missing_values\"].lower() == \"Impute\":\n",
    "        for x in a.columns:\n",
    "            if a[x].dtype=='object' or a[x].dtype=='bool':\n",
    "                a[x].fillna(a[x].mode()[0],inplace=True)\n",
    "\n",
    "            elif a[x].dtype=='int64' or a[x].dtype=='float64':\n",
    "                    a[x].fillna(a[x].mean(),inplace=True)\n",
    "\n",
    "    else:\n",
    "        a"
   ]
  },
  {
   "cell_type": "code",
   "execution_count": 9,
   "metadata": {},
   "outputs": [],
   "source": [
    "# Spliting data\n",
    "y = a[parsed_data[\"design_state_data\"][\"target\"][\"target\"]]\n",
    "X = a.drop(parsed_data[\"design_state_data\"][\"target\"][\"target\"], axis=1)"
   ]
  },
  {
   "cell_type": "markdown",
   "metadata": {},
   "source": [
    "### Train Test split"
   ]
  },
  {
   "cell_type": "code",
   "execution_count": 10,
   "metadata": {},
   "outputs": [],
   "source": [
    "# Spliting data in training and testing\n",
    "X_train, X_test, y_train, y_test = train_test_split(X,\n",
    "                                                    y,\n",
    "                                                    test_size=1-parsed_data[\"design_state_data\"][\"train\"][\"train_ratio\"],\n",
    "                                                    random_state=parsed_data[\"design_state_data\"][\"train\"][\"random_seed\"])"
   ]
  },
  {
   "cell_type": "code",
   "execution_count": 11,
   "metadata": {},
   "outputs": [],
   "source": [
    "# Standardization of data\n",
    "scaler = MinMaxScaler()\n",
    "\n",
    "scaler.fit(X_train)\n",
    "\n",
    "X_train_scale = scaler.transform(X_train)\n",
    "X_test_scale = scaler.transform(X_test)"
   ]
  },
  {
   "cell_type": "markdown",
   "metadata": {},
   "source": [
    "### Model Building"
   ]
  },
  {
   "cell_type": "code",
   "execution_count": 12,
   "metadata": {},
   "outputs": [],
   "source": [
    "# Making list of models from json data\n",
    "l = list(parsed_data[\"design_state_data\"][\"algorithms\"].keys())\n",
    "\n",
    "y_type = parsed_data[\"design_state_data\"][\"target\"][\"prediction_type\"]\n",
    "\n",
    "sub=[]\n",
    "\n",
    "if y_type == \"Classification\":\n",
    "    for z in l:\n",
    "        sub = [s for s in l if \"Classifier\" in s]\n",
    "#         cls = [y.unique()]\n",
    "        \n",
    "elif y_type != \"Classification\":\n",
    "    for z in l:\n",
    "        sub = [s for s in l if \"Regressor\" in s]"
   ]
  },
  {
   "cell_type": "code",
   "execution_count": 13,
   "metadata": {},
   "outputs": [
    {
     "name": "stdout",
     "output_type": "stream",
     "text": [
      "Predictions for model 'RandomForestClassifier': ['Iris-versicolor' 'Iris-virginica' 'Iris-setosa' 'Iris-versicolor'\n",
      " 'Iris-setosa' 'Iris-versicolor' 'Iris-versicolor' 'Iris-versicolor'\n",
      " 'Iris-setosa' 'Iris-versicolor' 'Iris-versicolor' 'Iris-virginica'\n",
      " 'Iris-versicolor' 'Iris-setosa' 'Iris-setosa' 'Iris-virginica'\n",
      " 'Iris-versicolor' 'Iris-setosa' 'Iris-setosa' 'Iris-setosa'\n",
      " 'Iris-virginica' 'Iris-virginica' 'Iris-virginica' 'Iris-setosa'\n",
      " 'Iris-versicolor' 'Iris-setosa' 'Iris-versicolor' 'Iris-versicolor'\n",
      " 'Iris-versicolor' 'Iris-virginica']\n",
      "Predictions for model 'DecisionTreeClassifier': ['Iris-versicolor' 'Iris-virginica' 'Iris-setosa' 'Iris-versicolor'\n",
      " 'Iris-setosa' 'Iris-versicolor' 'Iris-virginica' 'Iris-versicolor'\n",
      " 'Iris-setosa' 'Iris-versicolor' 'Iris-versicolor' 'Iris-virginica'\n",
      " 'Iris-versicolor' 'Iris-setosa' 'Iris-setosa' 'Iris-virginica'\n",
      " 'Iris-versicolor' 'Iris-setosa' 'Iris-setosa' 'Iris-setosa'\n",
      " 'Iris-virginica' 'Iris-virginica' 'Iris-virginica' 'Iris-setosa'\n",
      " 'Iris-versicolor' 'Iris-setosa' 'Iris-versicolor' 'Iris-versicolor'\n",
      " 'Iris-versicolor' 'Iris-virginica']\n"
     ]
    },
    {
     "data": {
      "text/plain": [
       "[array(['Iris-versicolor', 'Iris-virginica', 'Iris-setosa',\n",
       "        'Iris-versicolor', 'Iris-setosa', 'Iris-versicolor',\n",
       "        'Iris-versicolor', 'Iris-versicolor', 'Iris-setosa',\n",
       "        'Iris-versicolor', 'Iris-versicolor', 'Iris-virginica',\n",
       "        'Iris-versicolor', 'Iris-setosa', 'Iris-setosa', 'Iris-virginica',\n",
       "        'Iris-versicolor', 'Iris-setosa', 'Iris-setosa', 'Iris-setosa',\n",
       "        'Iris-virginica', 'Iris-virginica', 'Iris-virginica',\n",
       "        'Iris-setosa', 'Iris-versicolor', 'Iris-setosa', 'Iris-versicolor',\n",
       "        'Iris-versicolor', 'Iris-versicolor', 'Iris-virginica'],\n",
       "       dtype=object),\n",
       " array(['Iris-versicolor', 'Iris-virginica', 'Iris-setosa',\n",
       "        'Iris-versicolor', 'Iris-setosa', 'Iris-versicolor',\n",
       "        'Iris-virginica', 'Iris-versicolor', 'Iris-setosa',\n",
       "        'Iris-versicolor', 'Iris-versicolor', 'Iris-virginica',\n",
       "        'Iris-versicolor', 'Iris-setosa', 'Iris-setosa', 'Iris-virginica',\n",
       "        'Iris-versicolor', 'Iris-setosa', 'Iris-setosa', 'Iris-setosa',\n",
       "        'Iris-virginica', 'Iris-virginica', 'Iris-virginica',\n",
       "        'Iris-setosa', 'Iris-versicolor', 'Iris-setosa', 'Iris-versicolor',\n",
       "        'Iris-versicolor', 'Iris-versicolor', 'Iris-virginica'],\n",
       "       dtype=object)]"
      ]
     },
     "execution_count": 13,
     "metadata": {},
     "output_type": "execute_result"
    }
   ],
   "source": [
    "# Model building\n",
    "models = {}  # Making Dictionary to store model names as keys and their predictions as values\n",
    "\n",
    "for model_name in sub:\n",
    "    try:\n",
    "        # Iterating models from list\n",
    "        model_class = eval(model_name)  # Evaluate the string to get the class object\n",
    "        model = model_class()  # Instantiate the model\n",
    "        model.fit(X_train_scale, y_train)  # Fit the model\n",
    "        y_pred = model.predict(X_test_scale)\n",
    "        models[model_name] = y_pred  # Store predictions with model name as key\n",
    "    except NameError:\n",
    "        print(f\"Model '{model_name}' not found.\")\n",
    "\n",
    "for model_name, y_pred in models.items():\n",
    "    print(f\"Predictions for model '{model_name}': {y_pred}\")\n",
    "\n",
    "# To save prediction in list\n",
    "predictions = [models[model_name] for model_name in sub]\n",
    "predictions"
   ]
  },
  {
   "cell_type": "markdown",
   "metadata": {},
   "source": [
    "### Model Evaluation"
   ]
  },
  {
   "cell_type": "code",
   "execution_count": 14,
   "metadata": {},
   "outputs": [],
   "source": [
    "# Defining model Evaluation Function\n",
    "def plot_confusion_metrix(y_test, \n",
    "                          y_pred,\n",
    "                          classes, \n",
    "                          normalize=False, \n",
    "                          title='Confusion Matrix', \n",
    "                          cmap=plt.cm.Blues):\n",
    "\n",
    "    cm = confusion_matrix(y_test,y_pred)\n",
    "\n",
    "\n",
    "    if normalize:\n",
    "        cm = cm.astype('float') / cm.sum(axis=1)[:, np.newaxis]\n",
    "        print(\"---------------- Normalized Confusion Matrix ------------------\")\n",
    "    else:\n",
    "        print(\"--------------------- Confusion Matrix, Without Normalisation ------------------\")\n",
    "\n",
    "\n",
    "    plt.imshow(cm, interpolation='nearest',cmap=cmap)\n",
    "    plt.title(title)\n",
    "    plt.colorbar()\n",
    "    tick_marks = np.arange(len(classes))\n",
    "    plt.xticks(tick_marks,classes,rotation=35)\n",
    "    plt.yticks(tick_marks,classes)\n",
    "\n",
    "    fmt = '.2f' if normalize else 'd'\n",
    "    thresh = cm.max() / 2.\n",
    "\n",
    "    for i in range(cm.shape[0]):\n",
    "        for j in range(cm.shape[0]):\n",
    "            plt.text(j, i, format(cm[i,j], fmt),\n",
    "            horizontalalignment='center',\n",
    "            color='white' if cm[i, j] > thresh else 'black')\n",
    "\n",
    "    plt.ylabel('True label')\n",
    "    plt.xlabel('Predicted label')\n",
    "    plt.tight_layout()\n",
    "    plt.show()\n",
    "\n",
    "    print(\"----------------------- Classification report ----------------------\")\n",
    "    print('Classification report')\n",
    "    print(classification_report(y_test,y_pred))\n",
    "\n",
    "    print(\"------------------------- Accuracy Score -------------------------\")\n",
    "    acc= accuracy_score(y_test,y_pred)\n",
    "    print(\"Accuracy of the model: \", acc)"
   ]
  },
  {
   "cell_type": "code",
   "execution_count": 15,
   "metadata": {},
   "outputs": [
    {
     "name": "stdout",
     "output_type": "stream",
     "text": [
      "--------------------- Confusion Matrix, Without Normalisation ------------------\n"
     ]
    },
    {
     "data": {
      "image/png": "[encoded data removed]",
      "text/plain": [
       "<Figure size 432x288 with 2 Axes>"
      ]
     },
     "metadata": {
      "needs_background": "light"
     },
     "output_type": "display_data"
    },
    {
     "name": "stdout",
     "output_type": "stream",
     "text": [
      "----------------------- Classification report ----------------------\n",
      "Classification report\n",
      "                 precision    recall  f1-score   support\n",
      "\n",
      "    Iris-setosa       1.00      1.00      1.00        10\n",
      "Iris-versicolor       1.00      1.00      1.00        13\n",
      " Iris-virginica       1.00      1.00      1.00         7\n",
      "\n",
      "       accuracy                           1.00        30\n",
      "      macro avg       1.00      1.00      1.00        30\n",
      "   weighted avg       1.00      1.00      1.00        30\n",
      "\n",
      "------------------------- Accuracy Score -------------------------\n",
      "Accuracy of the model:  1.0\n",
      "--------------------- Confusion Matrix, Without Normalisation ------------------\n"
     ]
    },
    {
     "data": {
      "image/png": "[encoded data removed]",
      "text/plain": [
       "<Figure size 432x288 with 2 Axes>"
      ]
     },
     "metadata": {
      "needs_background": "light"
     },
     "output_type": "display_data"
    },
    {
     "name": "stdout",
     "output_type": "stream",
     "text": [
      "----------------------- Classification report ----------------------\n",
      "Classification report\n",
      "                 precision    recall  f1-score   support\n",
      "\n",
      "    Iris-setosa       1.00      1.00      1.00        10\n",
      "Iris-versicolor       1.00      0.92      0.96        13\n",
      " Iris-virginica       0.88      1.00      0.93         7\n",
      "\n",
      "       accuracy                           0.97        30\n",
      "      macro avg       0.96      0.97      0.96        30\n",
      "   weighted avg       0.97      0.97      0.97        30\n",
      "\n",
      "------------------------- Accuracy Score -------------------------\n",
      "Accuracy of the model:  0.9666666666666667\n"
     ]
    }
   ],
   "source": [
    "for pred in predictions:\n",
    "    plot_confusion_metrix(y_test, \n",
    "                          y_pred=pred,\n",
    "                          classes=[\"Iris-setosa\", \"Iris-versicolor\", \"Iris-virginica\"], \n",
    "                          normalize=False, \n",
    "                          title='Confusion Matrix', \n",
    "                          cmap=plt.cm.Blues)"
   ]
  },
  {
   "cell_type": "code",
   "execution_count": null,
   "metadata": {},
   "outputs": [],
   "source": []
  },
  {
   "cell_type": "code",
   "execution_count": null,
   "metadata": {},
   "outputs": [],
   "source": []
  }
 ],
 "metadata": {
  "kernelspec": {
   "display_name": "Python 3",
   "language": "python",
   "name": "python3"
  },
  "language_info": {
   "codemirror_mode": {
    "name": "ipython",
    "version": 3
   },
   "file_extension": ".py",
   "mimetype": "text/x-python",
   "name": "python",
   "nbconvert_exporter": "python",
   "pygments_lexer": "ipython3",
   "version": "3.8.3"
  }
 },
 "nbformat": 4,
 "nbformat_minor": 4
}
